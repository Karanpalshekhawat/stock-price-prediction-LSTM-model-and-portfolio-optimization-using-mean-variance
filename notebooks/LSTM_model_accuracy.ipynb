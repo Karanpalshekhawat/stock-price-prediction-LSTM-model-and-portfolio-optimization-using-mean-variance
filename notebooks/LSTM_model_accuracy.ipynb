{
 "cells": [
  {
   "cell_type": "markdown",
   "id": "6c8c0cba",
   "metadata": {},
   "source": [
    "## <strong> <a style=\"color:black\">LSTM Model Accuracy Comparison </a> </strong> \n",
    "\n",
    "---\n",
    "\n",
    "|  |  |\n",
    "|:---|:---|\n",
    "|**Reading Time** |  10 minutes |\n",
    "|**Packages used** | Defined with relevant DocStrings within repository   |\n",
    "|**Model Hyperparameter** | Read trained model ./model/output/LSTM|\n",
    "|**Outcome** | Comparison of the model accuracy on the real stock price history | \n",
    "\n",
    "---\n",
    "\n",
    "There are two plots that I have plotted towards the end of the notebook to compare the model performance with the real world scenario. \n",
    "\n",
    "In the first plot, I have used trained model to predict next day return based on the updated new features by incorporating effect of new day data by each passing day in the features while in the second plot, I have plotted based on multi-step forecasting technique where we use the predicted variable as an input to predict in future, thus, all future values are predicted at time t=0.\n",
    "\n",
    "---"
   ]
  },
  {
   "cell_type": "code",
   "execution_count": 1,
   "id": "159b7303",
   "metadata": {},
   "outputs": [],
   "source": [
    "import os\n",
    "import pickle\n",
    "\n",
    "import pandas as pd\n",
    "import numpy as np\n",
    "import yfinance as yf\n",
    "import seaborn as sns\n",
    "import datetime as dt\n",
    "\n",
    "import matplotlib.pyplot as plt\n",
    "\n",
    "import warnings\n",
    "warnings.filterwarnings(\"ignore\") # just to remove clutter in the notebook\n",
    "\n",
    "from pandas.tseries.offsets import BDay\n",
    "from datetime import date, datetime, timedelta\n",
    "from keras.layers.core import Dense, Dropout\n",
    "from keras.layers import LSTM\n",
    "from keras.models import Sequential\n",
    "from keras.optimizers import Adam\n",
    "from sklearn.metrics import mean_squared_error, mean_absolute_error\n",
    "from sklearn.preprocessing import StandardScaler"
   ]
  },
  {
   "cell_type": "code",
   "execution_count": 2,
   "id": "4a3027c4",
   "metadata": {},
   "outputs": [],
   "source": [
    "os.chdir(\"..\")"
   ]
  },
  {
   "cell_type": "markdown",
   "id": "34f200da",
   "metadata": {},
   "source": [
    "---\n",
    "\n",
    "### <strong> <a style=\"color:black\">Import self defined methods </a> </strong> \n",
    "\n",
    "All these methods are defined with appropriate DocStrings within the repository.\n",
    "\n",
    "---"
   ]
  },
  {
   "cell_type": "code",
   "execution_count": 3,
   "id": "537ce3c8",
   "metadata": {},
   "outputs": [],
   "source": [
    "from model.utils.pre_processing_LSTM import create_features_and_target_split_lstm, standardize_and_limit_outliers_returns, get_features_for_multi_step_forecasting, add_technical_indicators\n",
    "from model.core.LSTM import create_lstm_model, restructure_data"
   ]
  },
  {
   "cell_type": "markdown",
   "id": "e6784dfd",
   "metadata": {},
   "source": [
    "### <strong> <a style=\"color:black\">Get the data </a> </strong> \n",
    "\n",
    "\n",
    "In the following cells, I have defined the stock ticker, symbol and used yahoo finance to download the historical data. You can change the ticker, and symbol accordingly if wants to compare model performance for other stocks mentioned in static file in the directory ./model/static_data/\n",
    "\n",
    "---"
   ]
  },
  {
   "cell_type": "code",
   "execution_count": 4,
   "id": "95e2552c",
   "metadata": {},
   "outputs": [
    {
     "name": "stdout",
     "output_type": "stream",
     "text": [
      "[*********************100%***********************]  1 of 1 completed\n"
     ]
    }
   ],
   "source": [
    "ticker = \"SBIN.NS\"\n",
    "Stock = \"SBI\"\n",
    "end_date = datetime.today()\n",
    "start_date = date(2016, 1, 1)\n",
    "df_hist = yf.download(ticker, start=start_date, end=end_date)\n",
    "df_all_dates = pd.DataFrame(index=pd.bdate_range(start=start_date,end=end_date))\n",
    "df_hist = pd.merge(df_all_dates, df_hist, how=\"left\", left_index=True, right_index=True)\n",
    "df_hist = df_hist.fillna(method='ffill')"
   ]
  },
  {
   "cell_type": "markdown",
   "id": "e605e4b5",
   "metadata": {},
   "source": [
    "### <strong> <a style=\"color:black\">Static data used for Features and Train-test Split.</a> </strong> \n",
    "\n",
    "Define training data end date, validation period end date and number of past daily returns that are used as features to predict next day's return.\n",
    "\n",
    "---"
   ]
  },
  {
   "cell_type": "code",
   "execution_count": 5,
   "id": "bbe5999e",
   "metadata": {},
   "outputs": [],
   "source": [
    "param = {'training_end': end_date - timedelta(seconds=2 * 365.2425 * 24 * 60 * 60),\n",
    "             'validation_end': end_date - timedelta(seconds=1 * 365.2425 * 24 * 60 * 60),\n",
    "             'past_day_returns_for_predicting': 21}"
   ]
  },
  {
   "cell_type": "markdown",
   "id": "23791845",
   "metadata": {},
   "source": [
    "### <strong> <a style=\"color:black\">Technical indicators as a features</a> </strong> \n",
    "\n",
    "Applied self defined method which used to create extra momenetum based technical indicators using tulipy package which will be used as features along with past daily returns to predict next day return.\n",
    "\n",
    "---"
   ]
  },
  {
   "cell_type": "code",
   "execution_count": 6,
   "id": "6aab976e",
   "metadata": {},
   "outputs": [],
   "source": [
    "df_hist = add_technical_indicators(df_hist)\n",
    "df_hist['daily_returns'] = df_hist['Adj Close'].pct_change()\n",
    "df_hist = df_hist.dropna()\n",
    "dt_model = create_features_and_target_split_lstm(pd.DataFrame(df_hist['Adj Close']),\n",
    "                                                param['past_day_returns_for_predicting'])\n",
    "dt_model = pd.merge(dt_model, df_hist, how=\"left\", left_index=True, right_index=True)\n",
    "technical_indicator_features = ['RSI', 'MACD', 'UpperBollingerBand', 'LowerBollingerBand']"
   ]
  },
  {
   "cell_type": "markdown",
   "id": "1deb873f",
   "metadata": {},
   "source": [
    "### <strong> <a style=\"color:black\"> Data Pre-Processing and Hyper-Parameter setting</a> </strong> \n",
    "\n",
    "In the following cells, I have first alligned the training features and normalized it and stored the scaler to re-use it in the testing data set. Second step is to read the already trained model for output directory to use the tuned hyper parameters for fitting the model\n",
    "\n",
    "---"
   ]
  },
  {
   "cell_type": "code",
   "execution_count": 7,
   "id": "910c5289",
   "metadata": {},
   "outputs": [],
   "source": [
    "X_train, Y_train, X_val, Y_val, scaler = standardize_and_limit_outliers_returns(dt_model, param['past_day_returns_for_predicting'], technical_indicator_features, **param)\n",
    "# Restructure the data\n",
    "X_train, Y_train, X_val, Y_val = restructure_data(X_train, Y_train, X_val, Y_val)"
   ]
  },
  {
   "cell_type": "code",
   "execution_count": 8,
   "id": "27a26668",
   "metadata": {},
   "outputs": [],
   "source": [
    "hyper_params = {\n",
    "    'activation' : 'relu',\n",
    "    'neurons' : 200,\n",
    "    'initialization' : 'uniform',\n",
    "    'optimizer' : 'RMSProp',\n",
    "    'batch_size' : 256,\n",
    "    'learning_rate' : 0.001,\n",
    "    'epochs' : 20\n",
    "}"
   ]
  },
  {
   "cell_type": "code",
   "execution_count": null,
   "id": "61ec460c",
   "metadata": {},
   "outputs": [
    {
     "name": "stdout",
     "output_type": "stream",
     "text": [
      "Epoch 1/20\n"
     ]
    },
    {
     "name": "stderr",
     "output_type": "stream",
     "text": [
      "2023-05-07 22:42:15.151748: W tensorflow/tsl/platform/profile_utils/cpu_utils.cc:128] Failed to get CPU frequency: 0 Hz\n"
     ]
    }
   ],
   "source": [
    "lstm_model = create_lstm_model(num_features=X_train.shape[1], **hyper_params)\n",
    "lstm_model.fit(X_train, Y_train, batch_size=hyper_params['batch_size'], epochs=hyper_params['epochs'], verbose=True)"
   ]
  },
  {
   "cell_type": "code",
   "execution_count": null,
   "id": "9749e62b",
   "metadata": {},
   "outputs": [],
   "source": [
    "lstm_model.summary()"
   ]
  },
  {
   "cell_type": "code",
   "execution_count": null,
   "id": "3ee0be26",
   "metadata": {},
   "outputs": [],
   "source": [
    "dt_model['predicted_value'] = \"\"\n",
    "dt_model['actual_returns'] = dt_model['Adj Close'].pct_change()\n",
    "dt_model = dt_model.dropna()\n",
    "dt_model['predicted_returns'] = \"\""
   ]
  },
  {
   "cell_type": "code",
   "execution_count": null,
   "id": "cbcbef60",
   "metadata": {},
   "outputs": [],
   "source": [
    "df_training = dt_model[dt_model.index <= param['training_end']]\n",
    "df_test = dt_model[dt_model.index > param['validation_end']]"
   ]
  },
  {
   "cell_type": "markdown",
   "id": "18e8ae32",
   "metadata": {},
   "source": [
    "---\n",
    "\n",
    "### <strong> <a style=\"color:black\"> Model Performance </a> </strong> \n",
    "\n",
    "**First Chart** : Plotting the prediction based on updating features on a daily basis. Issue in this approach is that we are using updated realized new features to predict next day return, and thus, we have to wait for the whole test period to end to compare the actual model performance\n",
    "\n",
    "---"
   ]
  },
  {
   "cell_type": "code",
   "execution_count": null,
   "id": "e20b15af",
   "metadata": {},
   "outputs": [],
   "source": [
    "df_test_subset = df_test.copy()\n",
    "df_test_subset['Actual'] = \"\"\n",
    "df_test_subset['Predicted'] = \"\"\n",
    "df_test_subset['Predicted_close'] = \"\"\n",
    "df_test_subset.iloc[0, df_test_subset.columns.get_loc('Actual')] = 100\n",
    "df_test_subset.iloc[0, df_test_subset.columns.get_loc('Predicted')] = 100\n",
    "df_test_subset.iloc[0, df_test_subset.columns.get_loc('Predicted_close')] = df_test_subset.iloc[0, df_test_subset.columns.get_loc('target')]"
   ]
  },
  {
   "cell_type": "code",
   "execution_count": null,
   "id": "5cdced35",
   "metadata": {},
   "outputs": [],
   "source": [
    "rol_freq = param['past_day_returns_for_predicting']\n",
    "for i in range(0, len(df_test_subset) - 1):\n",
    "    features_ls = np.concatenate((df_test_subset.iloc[i, :rol_freq].values, df_test_subset.iloc[i][technical_indicator_features].values))\n",
    "    features_ls = features_ls.reshape(-1,1)\n",
    "    new_scaled_ls = scaler.transform(features_ls.T)\n",
    "    new_scaled_ls = np.asarray(new_scaled_ls).astype(np.float32)\n",
    "    new_scaled_ls = new_scaled_ls.reshape((new_scaled_ls.shape[0], new_scaled_ls.shape[1], 1))\n",
    "    predicted_value = lstm_model.predict(new_scaled_ls)[0][0]\n",
    "    # current features are predicting next day return\n",
    "    df_test_subset.iloc[i+1, df_test_subset.columns.get_loc('Predicted_close')] = predicted_value\n"
   ]
  },
  {
   "cell_type": "code",
   "execution_count": null,
   "id": "eb6832be",
   "metadata": {},
   "outputs": [],
   "source": [
    "for i in range(1, len(df_test_subset)):\n",
    "    start = df_test_subset.iloc[i-1, df_test_subset.columns.get_loc('Predicted_close')]\n",
    "    end = df_test_subset.iloc[i, df_test_subset.columns.get_loc('Predicted_close')]\n",
    "    predicted_return = (end / start) - 1\n",
    "    df_test_subset.iloc[i, df_test_subset.columns.get_loc('predicted_returns')] = predicted_return\n",
    "    df_test_subset.iloc[i, df_test_subset.columns.get_loc('Predicted')] = (1 + predicted_return) * df_test_subset.iloc[i-1, df_test_subset.columns.get_loc('Predicted')]\n",
    "    # actual trend\n",
    "    actual_return = df_test_subset.iloc[i, df_test_subset.columns.get_loc('actual_returns')]\n",
    "    df_test_subset.iloc[i, df_test_subset.columns.get_loc('Actual')] = (1 + actual_return) * df_test_subset.iloc[i-1, df_test_subset.columns.get_loc('Actual')]"
   ]
  },
  {
   "cell_type": "code",
   "execution_count": null,
   "id": "b07679ee",
   "metadata": {},
   "outputs": [],
   "source": [
    "fig, ax = plt.subplots(figsize = (18,10))\n",
    "ax.plot(df_test_subset.index, df_test_subset['Actual'], label=\"Actual\")\n",
    "ax.plot(df_test_subset.index, df_test_subset['Predicted'], label=\"Predicted\")\n",
    "\n",
    "ax.set_title(f\"{Stock} Trading vs Prediction (Updating features to predict next day return on a daily basis)\", fontsize=20, color=\"black\")\n",
    "ax.set_xlabel(\"Date\", fontsize=25, color=\"black\")\n",
    "ax.set_ylabel(\"Rupees\", fontsize=25, color=\"black\")\n",
    "ax.tick_params(axis='both', labelsize=20)\n",
    "\n",
    "ax.set_frame_on(True)\n",
    "ax.spines['top'].set_visible(True)\n",
    "ax.spines['right'].set_visible(True)\n",
    "ax.spines['bottom'].set_visible(True)\n",
    "ax.spines['left'].set_visible(True)\n",
    "\n",
    "plt.grid(b=True, color=\"aqua\", alpha=0.5, linestyle='-.')\n",
    "plt.legend(loc='upper right', prop={'size': 25})\n",
    "# plt.style.use('classic')\n",
    "plt.show()\n"
   ]
  },
  {
   "cell_type": "markdown",
   "id": "de9a7884",
   "metadata": {},
   "source": [
    "---\n",
    "\n",
    "### <strong> <a style=\"color:black\"> 6. Multi-Step Forecasting </a> </strong> \n",
    "\n",
    "**Second Chart:** It uses the predicted variables as an input features for the next day return and,thus, making all future prediction at time t=0 \n",
    "\n",
    "---"
   ]
  },
  {
   "cell_type": "code",
   "execution_count": null,
   "id": "597cc44c",
   "metadata": {},
   "outputs": [],
   "source": [
    "df_test_multi_step = dt_model[dt_model.index > param['validation_end']]\n",
    "df_test_multi_step['Predicted Adj Close'] = df_test_multi_step['Adj Close'] # will update it while looping\n",
    "end_date = dt.datetime.today()\n",
    "period_start_date = end_date - dt.timedelta(days=21) # 1 month prediction"
   ]
  },
  {
   "cell_type": "code",
   "execution_count": null,
   "id": "51ab7815",
   "metadata": {},
   "outputs": [],
   "source": [
    "rol_freq = param['past_day_returns_for_predicting']\n",
    "predicted_dates = pd.bdate_range(start=period_start_date,end=end_date)"
   ]
  },
  {
   "cell_type": "code",
   "execution_count": null,
   "id": "8700065f",
   "metadata": {},
   "outputs": [],
   "source": [
    "for date in predicted_dates[:-1]:\n",
    "    price_trend_before_date = pd.DataFrame(df_test_multi_step.loc[df_test_multi_step.index < date, 'Predicted Adj Close'])\n",
    "    df = price_trend_before_date.copy()\n",
    "    features_ls = get_features_for_multi_step_forecasting(df, rol_freq, technical_indicator_features)\n",
    "    features_ls = features_ls.reshape(-1,1)\n",
    "    new_scaled_ls = scaler.transform(features_ls.T)\n",
    "    new_scaled_ls = np.asarray(new_scaled_ls).astype(np.float32)\n",
    "    new_scaled_ls = new_scaled_ls.reshape((new_scaled_ls.shape[0], new_scaled_ls.shape[1], 1))\n",
    "    predicted_value = lstm_model.predict(new_scaled_ls)[0][0]\n",
    "    next_working_date = (date + BDay(1)).replace(hour=0, minute=0, second=0, microsecond=0)\n",
    "    date = date.replace(hour=0, minute=0, second=0, microsecond=0)\n",
    "    df_test_multi_step.loc[next_working_date, 'Predicted Adj Close'] = predicted_value"
   ]
  },
  {
   "cell_type": "code",
   "execution_count": null,
   "id": "d6866ee8",
   "metadata": {},
   "outputs": [],
   "source": [
    "fig, ax = plt.subplots(figsize = (18,10))\n",
    "ax.plot(df_test_multi_step.index, df_test_multi_step['Adj Close'], label=\"Actual\")\n",
    "ax.plot(df_test_multi_step.index, df_test_multi_step['Predicted Adj Close'], label=\"Predicted\")\n",
    "\n",
    "ax.set_title(f\"{Stock} Stock trend Comparison (Multi-Step forecasting at time t=0)\", fontsize=20, color=\"black\")\n",
    "ax.set_xlabel(\"Date\", fontsize=25, color=\"black\")\n",
    "ax.set_ylabel(\"Rupees\", fontsize=25, color=\"black\")\n",
    "ax.tick_params(axis='both', labelsize=20)\n",
    "\n",
    "ax.set_frame_on(True)\n",
    "ax.spines['top'].set_visible(True)\n",
    "ax.spines['right'].set_visible(True)\n",
    "ax.spines['bottom'].set_visible(True)\n",
    "ax.spines['left'].set_visible(True)\n",
    "\n",
    "plt.grid(b=True, color=\"aqua\", alpha=0.5, linestyle='-.')\n",
    "plt.legend(loc='upper right', prop={'size': 25})\n",
    "plt.axvline(x=predicted_dates[0], color=\"r\", linestyle=\"--\")\n",
    "plt.show()"
   ]
  },
  {
   "cell_type": "code",
   "execution_count": null,
   "id": "e40c3092",
   "metadata": {},
   "outputs": [],
   "source": []
  }
 ],
 "metadata": {
  "kernelspec": {
   "display_name": "Python 3 (ipykernel)",
   "language": "python",
   "name": "python3"
  },
  "language_info": {
   "codemirror_mode": {
    "name": "ipython",
    "version": 3
   },
   "file_extension": ".py",
   "mimetype": "text/x-python",
   "name": "python",
   "nbconvert_exporter": "python",
   "pygments_lexer": "ipython3",
   "version": "3.10.6"
  }
 },
 "nbformat": 4,
 "nbformat_minor": 5
}
