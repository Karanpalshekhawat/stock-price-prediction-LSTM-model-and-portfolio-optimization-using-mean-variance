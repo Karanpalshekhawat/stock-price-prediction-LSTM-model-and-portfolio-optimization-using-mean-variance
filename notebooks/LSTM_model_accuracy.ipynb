{
 "cells": [
  {
   "cell_type": "markdown",
   "id": "bf6b0460",
   "metadata": {},
   "source": [
    "## <strong> <a style=\"color:black\">LSTM Model Accuracy for all Stocks </a> </strong> \n",
    "\n",
    "---\n",
    "\n",
    "|  |  |\n",
    "|:---|:---|\n",
    "|**Reading Time** |  20 minutes |\n",
    "|**Packages used** | Defined with relevant DocStrings within repository   |\n",
    "|**Models** | Read already tuned models saved in repository ./model/output/LSTM/|\n",
    "|**Outcome** | Comparison of the model accuracy for 2 scenarios | \n",
    "| | 1) Daily prediction for next day stock price and comparing it with actual trend|\n",
    "| | 2) Multi-step forecasting in future at time t=0 by using predicted values as inputs, and comparing it with actual trend|\n",
    "\n",
    "## Aim \n",
    "\n",
    "Final aim is to build a portoflio of stocks. Weights for each stock in the portoflio is identified based on the mean-variance model i.e. a simulation approach in which we minmise the variance of the portfolio for the given return. Return paramater used for each stock in the mean-variance model is obtained as per the predcition of the trained LSTM model while variance and correlation paramater is based on their historical data.\n",
    "\n",
    "In this notebook, I have demonstrated the performance of each individual trained LSTM model for the set of below stocks and finally a portfolio is constructed using the mean-variance model.\n",
    "\n",
    "\n",
    "| **Stocks** |\n",
    "| :---|\n",
    "| State Bank of India |\n",
    "| Reliance |\n",
    "| Airtel |\n",
    "| ONGC |\n",
    "| Tech Mahindra |\n",
    "| HUL |\n",
    "| TCS |\n",
    "| Asian Paints|\n",
    "| Eicher Motors |\n",
    "| Axis Bank |\n",
    "\n",
    "---"
   ]
  },
  {
   "cell_type": "code",
   "execution_count": 1,
   "id": "773b2e09",
   "metadata": {},
   "outputs": [],
   "source": [
    "import os\n",
    "import datetime as dt\n",
    "import warnings\n",
    "\n",
    "warnings.filterwarnings('ignore')"
   ]
  },
  {
   "cell_type": "code",
   "execution_count": 2,
   "id": "9bb9e438",
   "metadata": {},
   "outputs": [],
   "source": [
    "os.chdir(\"..\")"
   ]
  },
  {
   "cell_type": "code",
   "execution_count": 34,
   "id": "caf385b3",
   "metadata": {},
   "outputs": [
    {
     "ename": "ImportError",
     "evalue": "cannot import name 'pre_process' from 'model.utils.plotting_methods' (/Users/karanpalsinghshekhawat/Documents/Github_projects/alpha-model-using-ML/stock-predicition-and-portoflio-optimization-using-ML/model/utils/plotting_methods.py)",
     "output_type": "error",
     "traceback": [
      "\u001b[0;31m---------------------------------------------------------------------------\u001b[0m",
      "\u001b[0;31mImportError\u001b[0m                               Traceback (most recent call last)",
      "Cell \u001b[0;32mIn[34], line 1\u001b[0m\n\u001b[0;32m----> 1\u001b[0m \u001b[38;5;28;01mfrom\u001b[39;00m \u001b[38;5;21;01mmodel\u001b[39;00m\u001b[38;5;21;01m.\u001b[39;00m\u001b[38;5;21;01mutils\u001b[39;00m\u001b[38;5;21;01m.\u001b[39;00m\u001b[38;5;21;01mplotting_methods\u001b[39;00m \u001b[38;5;28;01mimport\u001b[39;00m read_trained_model_and_scaler, get_data, pre_process\n\u001b[1;32m      2\u001b[0m \u001b[38;5;28;01mfrom\u001b[39;00m \u001b[38;5;21;01mmodel\u001b[39;00m\u001b[38;5;21;01m.\u001b[39;00m\u001b[38;5;21;01mutils\u001b[39;00m\u001b[38;5;21;01m.\u001b[39;00m\u001b[38;5;21;01mplotting_methods\u001b[39;00m \u001b[38;5;28;01mimport\u001b[39;00m predicting_next_day_price_by_adjusting_input_on_daily_basis\n\u001b[1;32m      3\u001b[0m \u001b[38;5;66;03m# from model.utils.plotting_methods\u001b[39;00m\n",
      "\u001b[0;31mImportError\u001b[0m: cannot import name 'pre_process' from 'model.utils.plotting_methods' (/Users/karanpalsinghshekhawat/Documents/Github_projects/alpha-model-using-ML/stock-predicition-and-portoflio-optimization-using-ML/model/utils/plotting_methods.py)"
     ]
    }
   ],
   "source": [
    "from model.utils.forecasting_methods import read_trained_model_and_scaler, get_data, pre_processing\n",
    "from model.utils.forecasting_methods import predicting_next_day_price_by_adjusting_input_on_daily_basis\n",
    "# from model.utils.plotting_methods"
   ]
  },
  {
   "cell_type": "code",
   "execution_count": 33,
   "id": "4d5eb47e",
   "metadata": {},
   "outputs": [],
   "source": [
    "start_date = dt.date(2022, 4, 1) # test set start data\n",
    "end_date = dt.datetime.today()\n",
    "path = os.getcwd() + r\"/model/output/LSTM/\" # main model output saved path\n",
    "rol_freq = 10 # number of past days used in prediction"
   ]
  },
  {
   "cell_type": "markdown",
   "id": "24a0f980",
   "metadata": {},
   "source": [
    "### Feature Selection : A LSTM model was trained based on the below features to predict the next day price:-\n",
    "\n",
    "| **Price History**| **Technical Indicators**|\n",
    "| :---| :---|\n",
    "| Last 10 day price history of Stock|  Simple Moving Average of Last 20 days|\n",
    "|| Simple Moving Average of Last 50 days| \n",
    "|| Relative Strength Index (RSI)|\n",
    "|| Moving Average Convergence Divergence|\n",
    "|| Upper and lower Bollinger Band|\n",
    "\n",
    "---\n",
    "\n",
    "### Performance of the model\n",
    "\n",
    "I have plotted 2 types of plots to demonstrate the performance of the model: - \n",
    "\n",
    "\n",
    "1. ) Predict next day stock price based on the updated new features by incorporating the efffect of new day data due to each passing day in the features.\n",
    "\n",
    "2. )  Predict price based on multi-step forecasting technique where I have used the predicted values from the model as an input to predict the further next day price in future, thus, all future values of stock price are predicted at the time t=0.\n",
    "\n",
    "---"
   ]
  },
  {
   "cell_type": "markdown",
   "id": "07249a2f",
   "metadata": {},
   "source": [
    "### State Bank of India"
   ]
  },
  {
   "cell_type": "code",
   "execution_count": 31,
   "id": "f96c80eb",
   "metadata": {},
   "outputs": [],
   "source": [
    "stock = \"SBI\"\n",
    "ticker = \"SBIN.NS\"\n",
    "df_hist = get_data(ticker, start_date, end_date)"
   ]
  },
  {
   "cell_type": "code",
   "execution_count": 32,
   "id": "51f9e251",
   "metadata": {},
   "outputs": [],
   "source": [
    "%%capture\n",
    "model, scaler = read_trained_model_and_scaler(stock, path)"
   ]
  },
  {
   "cell_type": "code",
   "execution_count": null,
   "id": "6cd96fa6",
   "metadata": {},
   "outputs": [],
   "source": [
    "df_features, technical_indicator_features = pre_processing(df_hist, rol_freq)"
   ]
  }
 ],
 "metadata": {
  "kernelspec": {
   "display_name": "Python 3 (ipykernel)",
   "language": "python",
   "name": "python3"
  },
  "language_info": {
   "codemirror_mode": {
    "name": "ipython",
    "version": 3
   },
   "file_extension": ".py",
   "mimetype": "text/x-python",
   "name": "python",
   "nbconvert_exporter": "python",
   "pygments_lexer": "ipython3",
   "version": "3.10.6"
  }
 },
 "nbformat": 4,
 "nbformat_minor": 5
}
