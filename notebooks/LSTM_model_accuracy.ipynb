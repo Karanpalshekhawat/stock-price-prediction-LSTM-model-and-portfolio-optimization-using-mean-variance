{
 "cells": [
  {
   "cell_type": "markdown",
   "id": "bf6b0460",
   "metadata": {},
   "source": [
    "## <strong> <a style=\"color:black\">LSTM Model Accuracy for all Stocks </a> </strong> \n",
    "\n",
    "---\n",
    "\n",
    "|  |  |\n",
    "|:---|:---|\n",
    "|**Reading Time** |  15 minutes |\n",
    "|**Packages used** | Defined with relevant DocStrings within repository   |\n",
    "|**Models** | Read already tuned models saved in repository ./model/output/LSTM/|\n",
    "|**Outcome** | Comparison of the model accuracy for 2 scenarios | \n",
    "| | 1) Daily prediction for next day stock price and comparing it with actual trend|\n",
    "| | 2) Multi-step forecasting in future at time t=0 by using predicted values as inputs, and comparing it with actual trend|\n",
    "\n",
    "---\n",
    "\n",
    "#### In this notebook, I have demonstrated the performance of trained model for the set of below stocks: -\n",
    "\n",
    "| **Stocks** |\n",
    "| :---|\n",
    "| State Bank of India |\n",
    "| Reliance |\n",
    "| Airtel |\n",
    "| ONGC |\n",
    "| Tech Mahindra |\n",
    "| HUL |\n",
    "| TCS |\n",
    "| Asian Paints|\n",
    "| Eicher Motors |\n",
    "| Axis Bank |\n",
    "\n",
    "---\n",
    "\n",
    "#### For all the above stocks, I have built a LSTM model based on the below features to predict the next day price:-\n",
    "\n",
    "| **Price History**| **Technical Indicators**|\n",
    "| :---| :---|\n",
    "| Last 10 day price history of Stock|  Simple Moving Average of Last 20 days|\n",
    "|| Simple Moving Average of Last 50 days| \n",
    "|| Relative Strength Index (RSI)|\n",
    "|| Moving Average Convergence Divergence|\n",
    "|| Upper and lower Bollinger Band|\n",
    "\n",
    "---\n",
    "\n",
    "#### Plots\n",
    "\n",
    "I have plottted 2 types of plots to demonstrate the performance of the model: - \n",
    "\n",
    "\n",
    "1. ) Predict next day stock price based on the updated new features by incorporating the efffect of new day data due to each passing day in the features.\n",
    "\n",
    "2. )  Predict price based on multi-step forecasting technique where I have used the predicted values from the model as an input to predict the further next day price in future, thus, all future values of stock price are predicted at the time t=0.\n",
    "\n",
    "---"
   ]
  },
  {
   "cell_type": "code",
   "execution_count": null,
   "id": "773b2e09",
   "metadata": {},
   "outputs": [],
   "source": []
  }
 ],
 "metadata": {
  "kernelspec": {
   "display_name": "Python 3 (ipykernel)",
   "language": "python",
   "name": "python3"
  },
  "language_info": {
   "codemirror_mode": {
    "name": "ipython",
    "version": 3
   },
   "file_extension": ".py",
   "mimetype": "text/x-python",
   "name": "python",
   "nbconvert_exporter": "python",
   "pygments_lexer": "ipython3",
   "version": "3.10.6"
  }
 },
 "nbformat": 4,
 "nbformat_minor": 5
}
