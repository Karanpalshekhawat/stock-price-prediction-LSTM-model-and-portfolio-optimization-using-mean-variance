{
 "cells": [
  {
   "cell_type": "markdown",
   "id": "4a79ad54",
   "metadata": {},
   "source": [
    "## Elastic Net Model Accuracy Comparison for some Stocks\n",
    "\n",
    "---\n",
    "\n",
    "|  |  |\n",
    "|:---|:---|\n",
    "|**Reading Time** |  10 minutes |\n",
    "|**Packages used** | Defined with relevant DocStrings within repository   |\n",
    "|**Model used** | Model already trained stored in the directory ./model/output|\n",
    "|**Outcome** | Comparison of the model accuracy on the real dataset | \n",
    "\n",
    "---"
   ]
  },
  {
   "cell_type": "code",
   "execution_count": 1,
   "id": "6c377905",
   "metadata": {},
   "outputs": [],
   "source": [
    "import os\n",
    "import pickle\n",
    "\n",
    "import datetime as dt\n",
    "import pandas as pd\n",
    "import numpy as np\n",
    "import yfinance as yf\n",
    "\n",
    "import warnings\n",
    "warnings.filterwarnings(\"ignore\") # just to remove clutter in the notebook"
   ]
  },
  {
   "cell_type": "code",
   "execution_count": 2,
   "id": "ca09fb0f",
   "metadata": {},
   "outputs": [],
   "source": [
    "os.chdir(\"..\")"
   ]
  },
  {
   "cell_type": "code",
   "execution_count": 3,
   "id": "f26644ae",
   "metadata": {},
   "outputs": [],
   "source": [
    "from model.utils.pre_processing import pre_process_for_test_set"
   ]
  },
  {
   "cell_type": "code",
   "execution_count": 4,
   "id": "2ed28e91",
   "metadata": {},
   "outputs": [
    {
     "name": "stdout",
     "output_type": "stream",
     "text": [
      "[*********************100%***********************]  1 of 1 completed\n"
     ]
    }
   ],
   "source": [
    "ticker = \"SBIN.NS\"\n",
    "end_date = dt.datetime.today()\n",
    "start_date = end_date - dt.timedelta(seconds=1.16 * 365.2425 * 24 * 60 * 60) # 14 months data to compare accuracy on last 1 year data\n",
    "df = yf.download(ticker, start=start_date, end=end_date)"
   ]
  },
  {
   "cell_type": "code",
   "execution_count": 5,
   "id": "eb9bf30e",
   "metadata": {},
   "outputs": [],
   "source": [
    "df['actual_returns'] = df['Adj Close'].pct_change()\n",
    "df = df.dropna()\n",
    "df['predicted_returns'] = \"\""
   ]
  },
  {
   "cell_type": "code",
   "execution_count": 6,
   "id": "17ab0d6a",
   "metadata": {},
   "outputs": [],
   "source": [
    "rol_freq_for_prediction = 60\n",
    "df['rolling_returns'] = df['actual_returns']\n",
    "for i in range(rol_freq_for_prediction, len(df)):\n",
    "    features_ls = df.iloc[i - rol_freq_for_prediction:i, 0:df.shape[1]]['rolling_returns'].to_list()\n"
   ]
  },
  {
   "cell_type": "code",
   "execution_count": 7,
   "id": "fc6b0bff",
   "metadata": {},
   "outputs": [
    {
     "data": {
      "text/plain": [
       "-0.11270511233857505"
      ]
     },
     "execution_count": 7,
     "metadata": {},
     "output_type": "execute_result"
    }
   ],
   "source": [
    "sum(features_ls)"
   ]
  },
  {
   "cell_type": "code",
   "execution_count": 8,
   "id": "5989a8bc",
   "metadata": {},
   "outputs": [],
   "source": [
    "new_ls = pre_process_for_test_set(features_ls)"
   ]
  },
  {
   "cell_type": "code",
   "execution_count": 9,
   "id": "e41c2782",
   "metadata": {},
   "outputs": [],
   "source": [
    "model_save_path =  os.getcwd() + \"/model/output/ElasticNet/\" + \"SBI.pkl\""
   ]
  },
  {
   "cell_type": "code",
   "execution_count": 10,
   "id": "2ad1b922",
   "metadata": {},
   "outputs": [],
   "source": [
    "with open(model_save_path, 'rb') as f:\n",
    "    model = pickle.load(f)"
   ]
  },
  {
   "cell_type": "code",
   "execution_count": 18,
   "id": "47f69f2b",
   "metadata": {},
   "outputs": [
    {
     "data": {
      "text/plain": [
       "array([0.00075524])"
      ]
     },
     "execution_count": 18,
     "metadata": {},
     "output_type": "execute_result"
    }
   ],
   "source": [
    "model.predict(new_ls.T)"
   ]
  },
  {
   "cell_type": "code",
   "execution_count": 13,
   "id": "ee2c925c",
   "metadata": {},
   "outputs": [],
   "source": [
    "new_ls = new_ls.reshape(-1,1)"
   ]
  },
  {
   "cell_type": "code",
   "execution_count": 22,
   "id": "5a8b013f",
   "metadata": {},
   "outputs": [
    {
     "data": {
      "text/plain": [
       "Open                 463.100006\n",
       "High                 471.399994\n",
       "Low                       459.5\n",
       "Close                460.899994\n",
       "Adj Close            453.817657\n",
       "Volume                 13499415\n",
       "actual_returns        -0.003244\n",
       "predicted_returns              \n",
       "rolling_returns       -0.003244\n",
       "Name: 2022-05-23 00:00:00, dtype: object"
      ]
     },
     "execution_count": 22,
     "metadata": {},
     "output_type": "execute_result"
    }
   ],
   "source": []
  },
  {
   "cell_type": "code",
   "execution_count": null,
   "id": "061fb44f",
   "metadata": {},
   "outputs": [],
   "source": []
  }
 ],
 "metadata": {
  "kernelspec": {
   "display_name": "Python 3 (ipykernel)",
   "language": "python",
   "name": "python3"
  },
  "language_info": {
   "codemirror_mode": {
    "name": "ipython",
    "version": 3
   },
   "file_extension": ".py",
   "mimetype": "text/x-python",
   "name": "python",
   "nbconvert_exporter": "python",
   "pygments_lexer": "ipython3",
   "version": "3.10.6"
  }
 },
 "nbformat": 4,
 "nbformat_minor": 5
}
