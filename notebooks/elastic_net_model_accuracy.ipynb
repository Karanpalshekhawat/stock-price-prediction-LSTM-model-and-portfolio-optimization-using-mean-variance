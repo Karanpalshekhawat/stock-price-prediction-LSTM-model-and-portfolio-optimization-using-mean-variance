{
 "cells": [
  {
   "cell_type": "markdown",
   "id": "86294f82",
   "metadata": {},
   "source": [
    "## Elastic Net Model Accuracy Comparison for some Stocks\n",
    "\n",
    "---\n",
    "\n",
    "|  |  |\n",
    "|:---|:---|\n",
    "|**Reading Time** |  10 minutes |\n",
    "|**Packages used** | Defined with relevant DocStrings within repository   |\n",
    "|**Model used** | Model already trained stored in the directory ./model/output|\n",
    "|**Outcome** | Comparison of the model accuracy on the real dataset | \n",
    "\n",
    "---"
   ]
  },
  {
   "cell_type": "code",
   "execution_count": 1,
   "id": "efca65fb",
   "metadata": {},
   "outputs": [],
   "source": [
    "import os\n",
    "import pickle\n",
    "\n",
    "import datetime as dt\n",
    "import pandas as pd\n",
    "import numpy as np\n",
    "import yfinance as yf\n",
    "\n",
    "import warnings\n",
    "warnings.filterwarnings(\"ignore\") # just to remove clutter in the notebook"
   ]
  },
  {
   "cell_type": "code",
   "execution_count": 2,
   "id": "a97ac1ed",
   "metadata": {},
   "outputs": [],
   "source": [
    "os.chdir(\"..\")"
   ]
  },
  {
   "cell_type": "code",
   "execution_count": 3,
   "id": "50d67c78",
   "metadata": {},
   "outputs": [],
   "source": [
    "from model.utils.pre_processing import pre_process_for_test_set"
   ]
  },
  {
   "cell_type": "code",
   "execution_count": 4,
   "id": "a3e09d62",
   "metadata": {},
   "outputs": [
    {
     "name": "stdout",
     "output_type": "stream",
     "text": [
      "[*********************100%***********************]  1 of 1 completed\n"
     ]
    }
   ],
   "source": [
    "ticker = \"ONGCN.NS\"\n",
    "end_date = dt.datetime.today()\n",
    "start_date = end_date - dt.timedelta(seconds=1.16 * 365.2425 * 24 * 60 * 60) # 14 months data to compare accuracy on last 1 year data\n",
    "df = yf.download(ticker, start=start_date, end=end_date)"
   ]
  },
  {
   "cell_type": "code",
   "execution_count": 5,
   "id": "e67fc315",
   "metadata": {},
   "outputs": [],
   "source": [
    "df['actual_returns'] = df['Adj Close'].pct_change()\n",
    "df = df.dropna()\n",
    "df['predicted_returns'] = \"\""
   ]
  },
  {
   "cell_type": "code",
   "execution_count": 130,
   "id": "3a6160fe",
   "metadata": {},
   "outputs": [],
   "source": [
    "model_save_path =  os.getcwd() + \"/model/output/ElasticNet/\" + \"SBI.pkl\"\n",
    "with open(model_save_path, 'rb') as f:\n",
    "    model = pickle.load(f)"
   ]
  },
  {
   "cell_type": "code",
   "execution_count": 46,
   "id": "8388d9d4",
   "metadata": {},
   "outputs": [],
   "source": [
    "rol_freq_for_prediction = 60\n",
    "df['rolling_returns'] = df['actual_returns']\n",
    "for i in range(rol_freq_for_prediction, len(df)):\n",
    "    features_ls = df.iloc[i - rol_freq_for_prediction:i, 0:df.shape[1]]['rolling_returns'].to_list()\n",
    "    new_scaled_ls = pre_process_for_test_set(features_ls)\n",
    "    new_scaled_ls = new_scaled_ls.reshape(-1,1)\n",
    "    predicted_return = model.predict(new_scaled_ls.T)[0]\n",
    "    df.iloc[i, df.columns.get_loc('rolling_returns')] = predicted_return\n",
    "    df.iloc[i, df.columns.get_loc('predicted_returns')] = predicted_return"
   ]
  },
  {
   "cell_type": "code",
   "execution_count": 65,
   "id": "635737ec",
   "metadata": {},
   "outputs": [],
   "source": [
    "i=62"
   ]
  },
  {
   "cell_type": "code",
   "execution_count": 66,
   "id": "433fb0da",
   "metadata": {},
   "outputs": [],
   "source": [
    "features_ls_1 = df.iloc[i - rol_freq_for_prediction:i, 0:df.shape[1]]['rolling_returns'].to_list()"
   ]
  },
  {
   "cell_type": "code",
   "execution_count": 67,
   "id": "6703f995",
   "metadata": {},
   "outputs": [
    {
     "data": {
      "text/plain": [
       "-0.08140605247836244"
      ]
     },
     "execution_count": 67,
     "metadata": {},
     "output_type": "execute_result"
    }
   ],
   "source": [
    "sum(features_ls_1)"
   ]
  },
  {
   "cell_type": "code",
   "execution_count": 59,
   "id": "d5020b1e",
   "metadata": {},
   "outputs": [],
   "source": [
    "new_scaled_ls = pre_process_for_test_set(features_ls)\n",
    "new_scaled_ls = new_scaled_ls.reshape(-1,1)\n",
    "predicted_return = model.predict(new_scaled_ls.T)[0]"
   ]
  },
  {
   "cell_type": "code",
   "execution_count": 60,
   "id": "ce0358bb",
   "metadata": {},
   "outputs": [
    {
     "data": {
      "text/plain": [
       "0.0007552355737876331"
      ]
     },
     "execution_count": 60,
     "metadata": {},
     "output_type": "execute_result"
    }
   ],
   "source": [
    "predicted_return"
   ]
  },
  {
   "cell_type": "code",
   "execution_count": 63,
   "id": "ff501e27",
   "metadata": {},
   "outputs": [
    {
     "data": {
      "text/plain": [
       "0.004581251166158706"
      ]
     },
     "execution_count": 63,
     "metadata": {},
     "output_type": "execute_result"
    }
   ],
   "source": [
    "features_ls[0]"
   ]
  },
  {
   "cell_type": "code",
   "execution_count": 78,
   "id": "b75aa36e",
   "metadata": {},
   "outputs": [],
   "source": [
    "i = 60\n",
    "features_ls = df.iloc[i - rol_freq_for_prediction:i, 0:df.shape[1]]['rolling_returns'].to_list()"
   ]
  },
  {
   "cell_type": "code",
   "execution_count": 79,
   "id": "833acd36",
   "metadata": {},
   "outputs": [
    {
     "data": {
      "text/plain": [
       "-0.10560845069497338"
      ]
     },
     "execution_count": 79,
     "metadata": {},
     "output_type": "execute_result"
    }
   ],
   "source": [
    "sum(features_ls)"
   ]
  },
  {
   "cell_type": "code",
   "execution_count": 69,
   "id": "6fb120b6",
   "metadata": {},
   "outputs": [
    {
     "data": {
      "text/plain": [
       "-0.014443880662641462"
      ]
     },
     "execution_count": 69,
     "metadata": {},
     "output_type": "execute_result"
    }
   ],
   "source": [
    "features_ls[0]"
   ]
  },
  {
   "cell_type": "code",
   "execution_count": 80,
   "id": "d5f1662a",
   "metadata": {},
   "outputs": [],
   "source": [
    "new_scaled_ls = pre_process_for_test_set(features_ls)"
   ]
  },
  {
   "cell_type": "code",
   "execution_count": 71,
   "id": "548902e7",
   "metadata": {},
   "outputs": [],
   "source": [
    "new_scaled_ls_1 = pre_process_for_test_set(features_ls_1)"
   ]
  },
  {
   "cell_type": "code",
   "execution_count": 81,
   "id": "021e877f",
   "metadata": {},
   "outputs": [
    {
     "data": {
      "text/plain": [
       "-1.7763568394002505e-15"
      ]
     },
     "execution_count": 81,
     "metadata": {},
     "output_type": "execute_result"
    }
   ],
   "source": [
    "sum(new_scaled_ls)"
   ]
  },
  {
   "cell_type": "code",
   "execution_count": 73,
   "id": "d3b0fb23",
   "metadata": {},
   "outputs": [
    {
     "data": {
      "text/plain": [
       "4.163336342344337e-16"
      ]
     },
     "execution_count": 73,
     "metadata": {},
     "output_type": "execute_result"
    }
   ],
   "source": [
    "sum(new_scaled_ls_1)"
   ]
  },
  {
   "cell_type": "code",
   "execution_count": 82,
   "id": "0d098d70",
   "metadata": {},
   "outputs": [],
   "source": [
    "new_scaled_ls = new_scaled_ls.reshape(-1,1)\n",
    "#predicted_return = model.predict(new_scaled_ls.T)[0]"
   ]
  },
  {
   "cell_type": "code",
   "execution_count": 75,
   "id": "bcd0b7f7",
   "metadata": {},
   "outputs": [
    {
     "data": {
      "text/plain": [
       "0.0007552355737876331"
      ]
     },
     "execution_count": 75,
     "metadata": {},
     "output_type": "execute_result"
    }
   ],
   "source": [
    "predicted_return"
   ]
  },
  {
   "cell_type": "code",
   "execution_count": 76,
   "id": "582a3d4b",
   "metadata": {},
   "outputs": [],
   "source": [
    "new_scaled_ls_1 = new_scaled_ls_1.reshape(-1,1)\n",
    "predicted_return_1 = model.predict(new_scaled_ls_1.T)[0]"
   ]
  },
  {
   "cell_type": "code",
   "execution_count": 87,
   "id": "c8b6af83",
   "metadata": {},
   "outputs": [],
   "source": [
    "one = new_scaled_ls.T"
   ]
  },
  {
   "cell_type": "code",
   "execution_count": 88,
   "id": "547ba68b",
   "metadata": {},
   "outputs": [],
   "source": [
    "two = new_scaled_ls_1.T"
   ]
  },
  {
   "cell_type": "code",
   "execution_count": 122,
   "id": "2a479084",
   "metadata": {},
   "outputs": [
    {
     "data": {
      "text/plain": [
       "array([0.0026451])"
      ]
     },
     "execution_count": 122,
     "metadata": {},
     "output_type": "execute_result"
    }
   ],
   "source": [
    "model.predict(one)"
   ]
  },
  {
   "cell_type": "code",
   "execution_count": 123,
   "id": "ae765ca7",
   "metadata": {},
   "outputs": [
    {
     "data": {
      "text/plain": [
       "array([0.00112344])"
      ]
     },
     "execution_count": 123,
     "metadata": {},
     "output_type": "execute_result"
    }
   ],
   "source": [
    "model.predict(two)"
   ]
  },
  {
   "cell_type": "code",
   "execution_count": 124,
   "id": "13c25763",
   "metadata": {},
   "outputs": [],
   "source": [
    "coef = model.coef_"
   ]
  },
  {
   "cell_type": "code",
   "execution_count": 125,
   "id": "f5c074dc",
   "metadata": {},
   "outputs": [
    {
     "data": {
      "text/plain": [
       "0.00021983085808346362"
      ]
     },
     "execution_count": 125,
     "metadata": {},
     "output_type": "execute_result"
    }
   ],
   "source": [
    "sum(coef)"
   ]
  },
  {
   "cell_type": "code",
   "execution_count": 100,
   "id": "c4add28e",
   "metadata": {},
   "outputs": [
    {
     "data": {
      "text/plain": [
       "0.0001591367900886923"
      ]
     },
     "execution_count": 100,
     "metadata": {},
     "output_type": "execute_result"
    }
   ],
   "source": [
    "model.intercept_"
   ]
  },
  {
   "cell_type": "code",
   "execution_count": 131,
   "id": "74d6281a",
   "metadata": {},
   "outputs": [
    {
     "data": {
      "text/html": [
       "<style>#sk-container-id-3 {color: black;background-color: white;}#sk-container-id-3 pre{padding: 0;}#sk-container-id-3 div.sk-toggleable {background-color: white;}#sk-container-id-3 label.sk-toggleable__label {cursor: pointer;display: block;width: 100%;margin-bottom: 0;padding: 0.3em;box-sizing: border-box;text-align: center;}#sk-container-id-3 label.sk-toggleable__label-arrow:before {content: \"▸\";float: left;margin-right: 0.25em;color: #696969;}#sk-container-id-3 label.sk-toggleable__label-arrow:hover:before {color: black;}#sk-container-id-3 div.sk-estimator:hover label.sk-toggleable__label-arrow:before {color: black;}#sk-container-id-3 div.sk-toggleable__content {max-height: 0;max-width: 0;overflow: hidden;text-align: left;background-color: #f0f8ff;}#sk-container-id-3 div.sk-toggleable__content pre {margin: 0.2em;color: black;border-radius: 0.25em;background-color: #f0f8ff;}#sk-container-id-3 input.sk-toggleable__control:checked~div.sk-toggleable__content {max-height: 200px;max-width: 100%;overflow: auto;}#sk-container-id-3 input.sk-toggleable__control:checked~label.sk-toggleable__label-arrow:before {content: \"▾\";}#sk-container-id-3 div.sk-estimator input.sk-toggleable__control:checked~label.sk-toggleable__label {background-color: #d4ebff;}#sk-container-id-3 div.sk-label input.sk-toggleable__control:checked~label.sk-toggleable__label {background-color: #d4ebff;}#sk-container-id-3 input.sk-hidden--visually {border: 0;clip: rect(1px 1px 1px 1px);clip: rect(1px, 1px, 1px, 1px);height: 1px;margin: -1px;overflow: hidden;padding: 0;position: absolute;width: 1px;}#sk-container-id-3 div.sk-estimator {font-family: monospace;background-color: #f0f8ff;border: 1px dotted black;border-radius: 0.25em;box-sizing: border-box;margin-bottom: 0.5em;}#sk-container-id-3 div.sk-estimator:hover {background-color: #d4ebff;}#sk-container-id-3 div.sk-parallel-item::after {content: \"\";width: 100%;border-bottom: 1px solid gray;flex-grow: 1;}#sk-container-id-3 div.sk-label:hover label.sk-toggleable__label {background-color: #d4ebff;}#sk-container-id-3 div.sk-serial::before {content: \"\";position: absolute;border-left: 1px solid gray;box-sizing: border-box;top: 0;bottom: 0;left: 50%;z-index: 0;}#sk-container-id-3 div.sk-serial {display: flex;flex-direction: column;align-items: center;background-color: white;padding-right: 0.2em;padding-left: 0.2em;position: relative;}#sk-container-id-3 div.sk-item {position: relative;z-index: 1;}#sk-container-id-3 div.sk-parallel {display: flex;align-items: stretch;justify-content: center;background-color: white;position: relative;}#sk-container-id-3 div.sk-item::before, #sk-container-id-3 div.sk-parallel-item::before {content: \"\";position: absolute;border-left: 1px solid gray;box-sizing: border-box;top: 0;bottom: 0;left: 50%;z-index: -1;}#sk-container-id-3 div.sk-parallel-item {display: flex;flex-direction: column;z-index: 1;position: relative;background-color: white;}#sk-container-id-3 div.sk-parallel-item:first-child::after {align-self: flex-end;width: 50%;}#sk-container-id-3 div.sk-parallel-item:last-child::after {align-self: flex-start;width: 50%;}#sk-container-id-3 div.sk-parallel-item:only-child::after {width: 0;}#sk-container-id-3 div.sk-dashed-wrapped {border: 1px dashed gray;margin: 0 0.4em 0.5em 0.4em;box-sizing: border-box;padding-bottom: 0.4em;background-color: white;}#sk-container-id-3 div.sk-label label {font-family: monospace;font-weight: bold;display: inline-block;line-height: 1.2em;}#sk-container-id-3 div.sk-label-container {text-align: center;}#sk-container-id-3 div.sk-container {/* jupyter's `normalize.less` sets `[hidden] { display: none; }` but bootstrap.min.css set `[hidden] { display: none !important; }` so we also need the `!important` here to be able to override the default hidden behavior on the sphinx rendered scikit-learn.org. See: https://github.com/scikit-learn/scikit-learn/issues/21755 */display: inline-block !important;position: relative;}#sk-container-id-3 div.sk-text-repr-fallback {display: none;}</style><div id=\"sk-container-id-3\" class=\"sk-top-container\"><div class=\"sk-text-repr-fallback\"><pre>ElasticNet(alpha=0.01, l1_ratio=0.2)</pre><b>In a Jupyter environment, please rerun this cell to show the HTML representation or trust the notebook. <br />On GitHub, the HTML representation is unable to render, please try loading this page with nbviewer.org.</b></div><div class=\"sk-container\" hidden><div class=\"sk-item\"><div class=\"sk-estimator sk-toggleable\"><input class=\"sk-toggleable__control sk-hidden--visually\" id=\"sk-estimator-id-3\" type=\"checkbox\" checked><label for=\"sk-estimator-id-3\" class=\"sk-toggleable__label sk-toggleable__label-arrow\">ElasticNet</label><div class=\"sk-toggleable__content\"><pre>ElasticNet(alpha=0.01, l1_ratio=0.2)</pre></div></div></div></div></div>"
      ],
      "text/plain": [
       "ElasticNet(alpha=0.01, l1_ratio=0.2)"
      ]
     },
     "execution_count": 131,
     "metadata": {},
     "output_type": "execute_result"
    }
   ],
   "source": [
    "model"
   ]
  }
 ],
 "metadata": {
  "kernelspec": {
   "display_name": "Python 3 (ipykernel)",
   "language": "python",
   "name": "python3"
  },
  "language_info": {
   "codemirror_mode": {
    "name": "ipython",
    "version": 3
   },
   "file_extension": ".py",
   "mimetype": "text/x-python",
   "name": "python",
   "nbconvert_exporter": "python",
   "pygments_lexer": "ipython3",
   "version": "3.10.6"
  }
 },
 "nbformat": 4,
 "nbformat_minor": 5
}
