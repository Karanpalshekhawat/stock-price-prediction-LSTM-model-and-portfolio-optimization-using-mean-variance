{
 "cells": [
  {
   "cell_type": "markdown",
   "id": "6c8c0cba",
   "metadata": {},
   "source": [
    "## Elastic Net Model Accuracy Comparison for some Stocks\n",
    "\n",
    "---\n",
    "\n",
    "|  |  |\n",
    "|:---|:---|\n",
    "|**Reading Time** |  10 minutes |\n",
    "|**Packages used** | Defined with relevant DocStrings within repository   |\n",
    "|**Model used** | Model already trained stored in the directory ./model/output|\n",
    "|**Outcome** | Comparison of the model accuracy on the real dataset | \n",
    "\n",
    "---"
   ]
  },
  {
   "cell_type": "code",
   "execution_count": 86,
   "id": "159b7303",
   "metadata": {},
   "outputs": [],
   "source": [
    "import os\n",
    "import pickle\n",
    "\n",
    "import pandas as pd\n",
    "import numpy as np\n",
    "import yfinance as yf\n",
    "import seaborn as sns\n",
    "\n",
    "import matplotlib.pyplot as plt\n",
    "from matplotlib import rcParams\n",
    "\n",
    "import warnings\n",
    "warnings.filterwarnings(\"ignore\") # just to remove clutter in the notebook\n",
    "\n",
    "from datetime import date, datetime, timedelta\n",
    "from sklearn.linear_model import ElasticNet\n",
    "from sklearn.metrics import mean_squared_error, mean_absolute_error, r2_score\n",
    "\n",
    "color_pal = sns.color_palette()\n",
    "plt.style.use('fivethirtyeight')"
   ]
  },
  {
   "cell_type": "code",
   "execution_count": 2,
   "id": "4a3027c4",
   "metadata": {},
   "outputs": [],
   "source": [
    "os.chdir(\"..\")"
   ]
  },
  {
   "cell_type": "code",
   "execution_count": 3,
   "id": "537ce3c8",
   "metadata": {},
   "outputs": [],
   "source": [
    "from model.utils.pre_processing import create_features_and_target_split, standardize_and_limit_outliers_returns, add_technical_indicators"
   ]
  },
  {
   "cell_type": "code",
   "execution_count": 4,
   "id": "95e2552c",
   "metadata": {},
   "outputs": [
    {
     "name": "stdout",
     "output_type": "stream",
     "text": [
      "[*********************100%***********************]  1 of 1 completed\n"
     ]
    }
   ],
   "source": [
    "ticker = \"SBIN.NS\"\n",
    "end_date = datetime.today()\n",
    "start_date = date(2016, 1, 1)\n",
    "df_hist = yf.download(ticker, start=start_date, end=end_date)"
   ]
  },
  {
   "cell_type": "code",
   "execution_count": 5,
   "id": "bbe5999e",
   "metadata": {},
   "outputs": [],
   "source": [
    "param = {'training_end': end_date - timedelta(seconds=2 * 365.2425 * 24 * 60 * 60),\n",
    "             'validation_end': end_date - timedelta(seconds=1 * 365.2425 * 24 * 60 * 60),\n",
    "             'past_day_returns_for_predicting': 21}"
   ]
  },
  {
   "cell_type": "code",
   "execution_count": 6,
   "id": "6aab976e",
   "metadata": {},
   "outputs": [],
   "source": [
    "df_hist = add_technical_indicators(df_hist)\n",
    "df_hist['daily_returns'] = df_hist['Adj Close'].pct_change()\n",
    "df_hist = df_hist.dropna()\n",
    "dt_model = create_features_and_target_split(pd.DataFrame(df_hist['daily_returns']),\n",
    "                                                param['past_day_returns_for_predicting'])\n",
    "dt_model = pd.merge(dt_model, df_hist, how=\"left\", left_index=True, right_index=True)\n",
    "technical_indicator_features = ['RSI', 'MACD', 'UpperBollingerBand', 'LowerBollingerBand']"
   ]
  },
  {
   "cell_type": "code",
   "execution_count": 7,
   "id": "910c5289",
   "metadata": {},
   "outputs": [],
   "source": [
    "X_train, Y_train, X_val, Y_val, scaler = standardize_and_limit_outliers_returns(dt_model, param['past_day_returns_for_predicting'], technical_indicator_features, **param)"
   ]
  },
  {
   "cell_type": "code",
   "execution_count": 42,
   "id": "27a26668",
   "metadata": {},
   "outputs": [
    {
     "data": {
      "text/html": [
       "<style>#sk-container-id-5 {color: black;background-color: white;}#sk-container-id-5 pre{padding: 0;}#sk-container-id-5 div.sk-toggleable {background-color: white;}#sk-container-id-5 label.sk-toggleable__label {cursor: pointer;display: block;width: 100%;margin-bottom: 0;padding: 0.3em;box-sizing: border-box;text-align: center;}#sk-container-id-5 label.sk-toggleable__label-arrow:before {content: \"▸\";float: left;margin-right: 0.25em;color: #696969;}#sk-container-id-5 label.sk-toggleable__label-arrow:hover:before {color: black;}#sk-container-id-5 div.sk-estimator:hover label.sk-toggleable__label-arrow:before {color: black;}#sk-container-id-5 div.sk-toggleable__content {max-height: 0;max-width: 0;overflow: hidden;text-align: left;background-color: #f0f8ff;}#sk-container-id-5 div.sk-toggleable__content pre {margin: 0.2em;color: black;border-radius: 0.25em;background-color: #f0f8ff;}#sk-container-id-5 input.sk-toggleable__control:checked~div.sk-toggleable__content {max-height: 200px;max-width: 100%;overflow: auto;}#sk-container-id-5 input.sk-toggleable__control:checked~label.sk-toggleable__label-arrow:before {content: \"▾\";}#sk-container-id-5 div.sk-estimator input.sk-toggleable__control:checked~label.sk-toggleable__label {background-color: #d4ebff;}#sk-container-id-5 div.sk-label input.sk-toggleable__control:checked~label.sk-toggleable__label {background-color: #d4ebff;}#sk-container-id-5 input.sk-hidden--visually {border: 0;clip: rect(1px 1px 1px 1px);clip: rect(1px, 1px, 1px, 1px);height: 1px;margin: -1px;overflow: hidden;padding: 0;position: absolute;width: 1px;}#sk-container-id-5 div.sk-estimator {font-family: monospace;background-color: #f0f8ff;border: 1px dotted black;border-radius: 0.25em;box-sizing: border-box;margin-bottom: 0.5em;}#sk-container-id-5 div.sk-estimator:hover {background-color: #d4ebff;}#sk-container-id-5 div.sk-parallel-item::after {content: \"\";width: 100%;border-bottom: 1px solid gray;flex-grow: 1;}#sk-container-id-5 div.sk-label:hover label.sk-toggleable__label {background-color: #d4ebff;}#sk-container-id-5 div.sk-serial::before {content: \"\";position: absolute;border-left: 1px solid gray;box-sizing: border-box;top: 0;bottom: 0;left: 50%;z-index: 0;}#sk-container-id-5 div.sk-serial {display: flex;flex-direction: column;align-items: center;background-color: white;padding-right: 0.2em;padding-left: 0.2em;position: relative;}#sk-container-id-5 div.sk-item {position: relative;z-index: 1;}#sk-container-id-5 div.sk-parallel {display: flex;align-items: stretch;justify-content: center;background-color: white;position: relative;}#sk-container-id-5 div.sk-item::before, #sk-container-id-5 div.sk-parallel-item::before {content: \"\";position: absolute;border-left: 1px solid gray;box-sizing: border-box;top: 0;bottom: 0;left: 50%;z-index: -1;}#sk-container-id-5 div.sk-parallel-item {display: flex;flex-direction: column;z-index: 1;position: relative;background-color: white;}#sk-container-id-5 div.sk-parallel-item:first-child::after {align-self: flex-end;width: 50%;}#sk-container-id-5 div.sk-parallel-item:last-child::after {align-self: flex-start;width: 50%;}#sk-container-id-5 div.sk-parallel-item:only-child::after {width: 0;}#sk-container-id-5 div.sk-dashed-wrapped {border: 1px dashed gray;margin: 0 0.4em 0.5em 0.4em;box-sizing: border-box;padding-bottom: 0.4em;background-color: white;}#sk-container-id-5 div.sk-label label {font-family: monospace;font-weight: bold;display: inline-block;line-height: 1.2em;}#sk-container-id-5 div.sk-label-container {text-align: center;}#sk-container-id-5 div.sk-container {/* jupyter's `normalize.less` sets `[hidden] { display: none; }` but bootstrap.min.css set `[hidden] { display: none !important; }` so we also need the `!important` here to be able to override the default hidden behavior on the sphinx rendered scikit-learn.org. See: https://github.com/scikit-learn/scikit-learn/issues/21755 */display: inline-block !important;position: relative;}#sk-container-id-5 div.sk-text-repr-fallback {display: none;}</style><div id=\"sk-container-id-5\" class=\"sk-top-container\"><div class=\"sk-text-repr-fallback\"><pre>ElasticNet(alpha=0, l1_ratio=0)</pre><b>In a Jupyter environment, please rerun this cell to show the HTML representation or trust the notebook. <br />On GitHub, the HTML representation is unable to render, please try loading this page with nbviewer.org.</b></div><div class=\"sk-container\" hidden><div class=\"sk-item\"><div class=\"sk-estimator sk-toggleable\"><input class=\"sk-toggleable__control sk-hidden--visually\" id=\"sk-estimator-id-5\" type=\"checkbox\" checked><label for=\"sk-estimator-id-5\" class=\"sk-toggleable__label sk-toggleable__label-arrow\">ElasticNet</label><div class=\"sk-toggleable__content\"><pre>ElasticNet(alpha=0, l1_ratio=0)</pre></div></div></div></div></div>"
      ],
      "text/plain": [
       "ElasticNet(alpha=0, l1_ratio=0)"
      ]
     },
     "execution_count": 42,
     "metadata": {},
     "output_type": "execute_result"
    }
   ],
   "source": [
    "model = ElasticNet(alpha=0, l1_ratio=0)\n",
    "model.fit(X_train, Y_train)"
   ]
  },
  {
   "cell_type": "code",
   "execution_count": 55,
   "id": "3ee0be26",
   "metadata": {},
   "outputs": [],
   "source": [
    "dt_model['actual_returns'] = dt_model['Adj Close'].pct_change()\n",
    "dt_model = dt_model.dropna()\n",
    "dt_model['predicted_returns'] = \"\""
   ]
  },
  {
   "cell_type": "code",
   "execution_count": 56,
   "id": "cbcbef60",
   "metadata": {},
   "outputs": [],
   "source": [
    "df_training = dt_model[dt_model.index <= param['training_end']]\n",
    "df_test = dt_model[dt_model.index > param['validation_end']]"
   ]
  },
  {
   "cell_type": "markdown",
   "id": "7432ca89",
   "metadata": {},
   "source": [
    "### Based on updated features on a daily basis \n",
    "\n",
    "### Obvious issue in this is that it contains look ahead bias as we will not know the future features at time t=0, thus, better approach is to do multi-step forecasting and then compare.\n",
    "\n",
    "---"
   ]
  },
  {
   "cell_type": "code",
   "execution_count": 75,
   "id": "5cdced35",
   "metadata": {},
   "outputs": [],
   "source": [
    "rol_freq = param['past_day_returns_for_predicting']\n",
    "for i in range(0, len(df_test)):\n",
    "    features_ls = np.concatenate((df_test.iloc[i, :rol_freq].values, df_test.iloc[i][technical_indicator_features].values))\n",
    "    features_ls = features_ls.reshape(-1,1)\n",
    "    new_scaled_ls = scaler.transform(features_ls.T)\n",
    "    predicted_return = model.predict(new_scaled_ls)[0]\n",
    "    df_test.iloc[i, df_test.columns.get_loc('predicted_returns')] = predicted_return"
   ]
  },
  {
   "cell_type": "code",
   "execution_count": 104,
   "id": "86b74d22",
   "metadata": {},
   "outputs": [],
   "source": [
    "df_test_subset = df_test[['actual_returns', 'predicted_returns']]\n",
    "df_test_subset['Actual'] = \"\"\n",
    "df_test_subset['Predicted'] = \"\""
   ]
  },
  {
   "cell_type": "code",
   "execution_count": 105,
   "id": "cd8263da",
   "metadata": {},
   "outputs": [],
   "source": [
    "first_row = pd.DataFrame({'actual_returns' : 0, 'predicted_returns' :0, 'Actual' : 100., 'Predicted' : 100.}, columns=df_test_subset.columns, index=[\"Start\"])\n",
    "df_test_subset = first_row.append(df_test_subset)"
   ]
  },
  {
   "cell_type": "code",
   "execution_count": 185,
   "id": "23439495",
   "metadata": {},
   "outputs": [],
   "source": [
    "i = 1\n",
    "for ind in df_test_subset.index[1:]:\n",
    "    df_test_subset.loc[ind,'Actual'] = df_test_subset.iloc[i - 1]['Actual'] * (1 + df_test_subset.iloc[i]['actual_returns'])\n",
    "    df_test_subset.loc[ind,'Predicted'] = df_test_subset.iloc[i - 1]['Predicted'] * (1 + df_test_subset.iloc[i]['predicted_returns'])\n",
    "    i+=1"
   ]
  },
  {
   "cell_type": "code",
   "execution_count": 179,
   "id": "ae7ad3c4",
   "metadata": {},
   "outputs": [],
   "source": []
  },
  {
   "cell_type": "code",
   "execution_count": 57,
   "id": "1241ba28",
   "metadata": {},
   "outputs": [],
   "source": [
    "rol_freq_for_prediction = param['past_day_returns_for_predicting']\n",
    "for i in range(rol_freq_for_prediction, len(df_training)):\n",
    "    features_ls = np.array(df_training.iloc[i - rol_freq_for_prediction:i, 0:df_training.shape[1]]['actual_returns'].to_list())\n",
    "    features_ls = features_ls.reshape(-1,1)\n",
    "    new_scaled_ls = scaler.transform(features_ls.T)\n",
    "    predicted_return = model.predict(new_scaled_ls)[0]\n",
    "    df.iloc[i, df.columns.get_loc('rolling_returns')] = predicted_return\n",
    "    df.iloc[i, df.columns.get_loc('predicted_returns')] = predicted_return"
   ]
  },
  {
   "cell_type": "code",
   "execution_count": null,
   "id": "c6b62bcb",
   "metadata": {},
   "outputs": [],
   "source": [
    "for i in range(rol_freq_for_prediction, len(df_test)):\n",
    "    features_ls = np.array(df_training.iloc[i - rol_freq_for_prediction:i, 0:df_training.shape[1]]['actual_returns'].to_list())\n",
    "    features_ls = features_ls.reshape(-1,1)\n",
    "    new_scaled_ls = scaler.transform(features_ls.T)\n",
    "    predicted_return = model.predict(new_scaled_ls)[0]\n",
    "    df_training.iloc[i, df_training.columns.get_loc('predicted_returns')] = predicted_return"
   ]
  },
  {
   "cell_type": "code",
   "execution_count": null,
   "id": "a37111e7",
   "metadata": {},
   "outputs": [],
   "source": []
  }
 ],
 "metadata": {
  "kernelspec": {
   "display_name": "Python 3 (ipykernel)",
   "language": "python",
   "name": "python3"
  },
  "language_info": {
   "codemirror_mode": {
    "name": "ipython",
    "version": 3
   },
   "file_extension": ".py",
   "mimetype": "text/x-python",
   "name": "python",
   "nbconvert_exporter": "python",
   "pygments_lexer": "ipython3",
   "version": "3.10.6"
  }
 },
 "nbformat": 4,
 "nbformat_minor": 5
}
