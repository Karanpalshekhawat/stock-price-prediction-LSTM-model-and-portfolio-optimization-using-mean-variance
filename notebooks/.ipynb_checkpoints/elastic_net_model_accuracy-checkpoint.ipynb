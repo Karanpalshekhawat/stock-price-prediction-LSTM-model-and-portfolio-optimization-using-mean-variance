{
 "cells": [
  {
   "cell_type": "markdown",
   "id": "6c8c0cba",
   "metadata": {},
   "source": [
    "## Elastic Net Model Accuracy Comparison for some Stocks\n",
    "\n",
    "---\n",
    "\n",
    "|  |  |\n",
    "|:---|:---|\n",
    "|**Reading Time** |  10 minutes |\n",
    "|**Packages used** | Defined with relevant DocStrings within repository   |\n",
    "|**Model used** | Model already trained stored in the directory ./model/output|\n",
    "|**Outcome** | Comparison of the model accuracy on the real dataset | \n",
    "\n",
    "---"
   ]
  },
  {
   "cell_type": "code",
   "execution_count": 1,
   "id": "159b7303",
   "metadata": {},
   "outputs": [],
   "source": [
    "import os\n",
    "import pickle\n",
    "\n",
    "import pandas as pd\n",
    "import numpy as np\n",
    "import yfinance as yf\n",
    "\n",
    "import warnings\n",
    "warnings.filterwarnings(\"ignore\") # just to remove clutter in the notebook\n",
    "\n",
    "from datetime import date, datetime, timedelta\n",
    "from sklearn.linear_model import ElasticNet"
   ]
  },
  {
   "cell_type": "code",
   "execution_count": 2,
   "id": "4a3027c4",
   "metadata": {},
   "outputs": [],
   "source": [
    "os.chdir(\"..\")"
   ]
  },
  {
   "cell_type": "code",
   "execution_count": 3,
   "id": "537ce3c8",
   "metadata": {},
   "outputs": [],
   "source": [
    "from model.utils.pre_processing import train_validation_test_split"
   ]
  },
  {
   "cell_type": "code",
   "execution_count": 4,
   "id": "95e2552c",
   "metadata": {},
   "outputs": [
    {
     "name": "stdout",
     "output_type": "stream",
     "text": [
      "[*********************100%***********************]  1 of 1 completed\n"
     ]
    }
   ],
   "source": [
    "ticker = \"SBIN.NS\"\n",
    "end_date = datetime.today()\n",
    "start_date = date(2016, 1, 1)\n",
    "df = yf.download(ticker, start=start_date, end=end_date)"
   ]
  },
  {
   "cell_type": "code",
   "execution_count": 5,
   "id": "bbe5999e",
   "metadata": {},
   "outputs": [],
   "source": [
    "param = {'training_end': end_date - timedelta(seconds=2 * 365.2425 * 24 * 60 * 60),\n",
    "             'validation_end': end_date - timedelta(seconds=1 * 365.2425 * 24 * 60 * 60),\n",
    "             'past_day_returns_for_predicting': 60}"
   ]
  },
  {
   "cell_type": "code",
   "execution_count": 6,
   "id": "6aab976e",
   "metadata": {},
   "outputs": [],
   "source": [
    "X_train_norm, Y_train, X_val_norm, Y_val, scaler = train_validation_test_split(df, **param)"
   ]
  },
  {
   "cell_type": "code",
   "execution_count": 28,
   "id": "910c5289",
   "metadata": {},
   "outputs": [],
   "source": [
    "from sklearn.svm import SVR"
   ]
  },
  {
   "cell_type": "code",
   "execution_count": 41,
   "id": "27a26668",
   "metadata": {},
   "outputs": [
    {
     "data": {
      "text/html": [
       "<style>#sk-container-id-7 {color: black;background-color: white;}#sk-container-id-7 pre{padding: 0;}#sk-container-id-7 div.sk-toggleable {background-color: white;}#sk-container-id-7 label.sk-toggleable__label {cursor: pointer;display: block;width: 100%;margin-bottom: 0;padding: 0.3em;box-sizing: border-box;text-align: center;}#sk-container-id-7 label.sk-toggleable__label-arrow:before {content: \"▸\";float: left;margin-right: 0.25em;color: #696969;}#sk-container-id-7 label.sk-toggleable__label-arrow:hover:before {color: black;}#sk-container-id-7 div.sk-estimator:hover label.sk-toggleable__label-arrow:before {color: black;}#sk-container-id-7 div.sk-toggleable__content {max-height: 0;max-width: 0;overflow: hidden;text-align: left;background-color: #f0f8ff;}#sk-container-id-7 div.sk-toggleable__content pre {margin: 0.2em;color: black;border-radius: 0.25em;background-color: #f0f8ff;}#sk-container-id-7 input.sk-toggleable__control:checked~div.sk-toggleable__content {max-height: 200px;max-width: 100%;overflow: auto;}#sk-container-id-7 input.sk-toggleable__control:checked~label.sk-toggleable__label-arrow:before {content: \"▾\";}#sk-container-id-7 div.sk-estimator input.sk-toggleable__control:checked~label.sk-toggleable__label {background-color: #d4ebff;}#sk-container-id-7 div.sk-label input.sk-toggleable__control:checked~label.sk-toggleable__label {background-color: #d4ebff;}#sk-container-id-7 input.sk-hidden--visually {border: 0;clip: rect(1px 1px 1px 1px);clip: rect(1px, 1px, 1px, 1px);height: 1px;margin: -1px;overflow: hidden;padding: 0;position: absolute;width: 1px;}#sk-container-id-7 div.sk-estimator {font-family: monospace;background-color: #f0f8ff;border: 1px dotted black;border-radius: 0.25em;box-sizing: border-box;margin-bottom: 0.5em;}#sk-container-id-7 div.sk-estimator:hover {background-color: #d4ebff;}#sk-container-id-7 div.sk-parallel-item::after {content: \"\";width: 100%;border-bottom: 1px solid gray;flex-grow: 1;}#sk-container-id-7 div.sk-label:hover label.sk-toggleable__label {background-color: #d4ebff;}#sk-container-id-7 div.sk-serial::before {content: \"\";position: absolute;border-left: 1px solid gray;box-sizing: border-box;top: 0;bottom: 0;left: 50%;z-index: 0;}#sk-container-id-7 div.sk-serial {display: flex;flex-direction: column;align-items: center;background-color: white;padding-right: 0.2em;padding-left: 0.2em;position: relative;}#sk-container-id-7 div.sk-item {position: relative;z-index: 1;}#sk-container-id-7 div.sk-parallel {display: flex;align-items: stretch;justify-content: center;background-color: white;position: relative;}#sk-container-id-7 div.sk-item::before, #sk-container-id-7 div.sk-parallel-item::before {content: \"\";position: absolute;border-left: 1px solid gray;box-sizing: border-box;top: 0;bottom: 0;left: 50%;z-index: -1;}#sk-container-id-7 div.sk-parallel-item {display: flex;flex-direction: column;z-index: 1;position: relative;background-color: white;}#sk-container-id-7 div.sk-parallel-item:first-child::after {align-self: flex-end;width: 50%;}#sk-container-id-7 div.sk-parallel-item:last-child::after {align-self: flex-start;width: 50%;}#sk-container-id-7 div.sk-parallel-item:only-child::after {width: 0;}#sk-container-id-7 div.sk-dashed-wrapped {border: 1px dashed gray;margin: 0 0.4em 0.5em 0.4em;box-sizing: border-box;padding-bottom: 0.4em;background-color: white;}#sk-container-id-7 div.sk-label label {font-family: monospace;font-weight: bold;display: inline-block;line-height: 1.2em;}#sk-container-id-7 div.sk-label-container {text-align: center;}#sk-container-id-7 div.sk-container {/* jupyter's `normalize.less` sets `[hidden] { display: none; }` but bootstrap.min.css set `[hidden] { display: none !important; }` so we also need the `!important` here to be able to override the default hidden behavior on the sphinx rendered scikit-learn.org. See: https://github.com/scikit-learn/scikit-learn/issues/21755 */display: inline-block !important;position: relative;}#sk-container-id-7 div.sk-text-repr-fallback {display: none;}</style><div id=\"sk-container-id-7\" class=\"sk-top-container\"><div class=\"sk-text-repr-fallback\"><pre>ElasticNet(alpha=0.001, l1_ratio=0.2)</pre><b>In a Jupyter environment, please rerun this cell to show the HTML representation or trust the notebook. <br />On GitHub, the HTML representation is unable to render, please try loading this page with nbviewer.org.</b></div><div class=\"sk-container\" hidden><div class=\"sk-item\"><div class=\"sk-estimator sk-toggleable\"><input class=\"sk-toggleable__control sk-hidden--visually\" id=\"sk-estimator-id-7\" type=\"checkbox\" checked><label for=\"sk-estimator-id-7\" class=\"sk-toggleable__label sk-toggleable__label-arrow\">ElasticNet</label><div class=\"sk-toggleable__content\"><pre>ElasticNet(alpha=0.001, l1_ratio=0.2)</pre></div></div></div></div></div>"
      ],
      "text/plain": [
       "ElasticNet(alpha=0.001, l1_ratio=0.2)"
      ]
     },
     "execution_count": 41,
     "metadata": {},
     "output_type": "execute_result"
    }
   ],
   "source": [
    "model = ElasticNet(alpha=0.001, l1_ratio=0.2)\n",
    "model.fit(X_train_norm, Y_train)"
   ]
  },
  {
   "cell_type": "code",
   "execution_count": 23,
   "id": "3ee0be26",
   "metadata": {},
   "outputs": [],
   "source": [
    "df['actual_returns'] = df['Adj Close'].pct_change()\n",
    "df = df.dropna()\n",
    "df['predicted_returns'] = \"\""
   ]
  },
  {
   "cell_type": "code",
   "execution_count": 46,
   "id": "cbcbef60",
   "metadata": {},
   "outputs": [],
   "source": [
    "df_training = df[df.index <= param['training_end']]"
   ]
  },
  {
   "cell_type": "code",
   "execution_count": 23,
   "id": "1619f8e0",
   "metadata": {},
   "outputs": [],
   "source": [
    "rol_freq_for_prediction = 60\n",
    "df['rolling_returns'] = df['actual_returns']\n",
    "for i in range(rol_freq_for_prediction, len(df)):\n",
    "    features_ls = np.array(df.iloc[i - rol_freq_for_prediction:i, 0:df.shape[1]]['rolling_returns'].to_list())\n",
    "    features_ls = features_ls.reshape(-1,1)\n",
    "    new_scaled_ls = scaler.transform(features_ls.T)\n",
    "    predicted_return = model.predict(new_scaled_ls)[0]\n",
    "    df.iloc[i, df.columns.get_loc('rolling_returns')] = predicted_return\n",
    "    df.iloc[i, df.columns.get_loc('predicted_returns')] = predicted_return"
   ]
  },
  {
   "cell_type": "code",
   "execution_count": 47,
   "id": "5cdced35",
   "metadata": {},
   "outputs": [],
   "source": [
    "rol_freq_for_prediction = 60\n",
    "for i in range(rol_freq_for_prediction, len(df_training)):\n",
    "    features_ls = np.array(df_training.iloc[i - rol_freq_for_prediction:i, 0:df_training.shape[1]]['actual_returns'].to_list())\n",
    "    features_ls = features_ls.reshape(-1,1)\n",
    "    new_scaled_ls = scaler.transform(features_ls.T)\n",
    "    predicted_return = model.predict(new_scaled_ls)[0]\n",
    "    df_training.iloc[i, df_training.columns.get_loc('predicted_returns')] = predicted_return"
   ]
  },
  {
   "cell_type": "code",
   "execution_count": 48,
   "id": "4db62f06",
   "metadata": {},
   "outputs": [],
   "source": [
    "df_training.to_clipboard()"
   ]
  },
  {
   "cell_type": "code",
   "execution_count": 36,
   "id": "8375a4d9",
   "metadata": {},
   "outputs": [
    {
     "data": {
      "text/html": [
       "<div>\n",
       "<style scoped>\n",
       "    .dataframe tbody tr th:only-of-type {\n",
       "        vertical-align: middle;\n",
       "    }\n",
       "\n",
       "    .dataframe tbody tr th {\n",
       "        vertical-align: top;\n",
       "    }\n",
       "\n",
       "    .dataframe thead th {\n",
       "        text-align: right;\n",
       "    }\n",
       "</style>\n",
       "<table border=\"1\" class=\"dataframe\">\n",
       "  <thead>\n",
       "    <tr style=\"text-align: right;\">\n",
       "      <th></th>\n",
       "      <th>Open</th>\n",
       "      <th>High</th>\n",
       "      <th>Low</th>\n",
       "      <th>Close</th>\n",
       "      <th>Adj Close</th>\n",
       "      <th>Volume</th>\n",
       "      <th>daily_returns</th>\n",
       "      <th>actual_returns</th>\n",
       "      <th>predicted_returns</th>\n",
       "    </tr>\n",
       "    <tr>\n",
       "      <th>Date</th>\n",
       "      <th></th>\n",
       "      <th></th>\n",
       "      <th></th>\n",
       "      <th></th>\n",
       "      <th></th>\n",
       "      <th></th>\n",
       "      <th></th>\n",
       "      <th></th>\n",
       "      <th></th>\n",
       "    </tr>\n",
       "  </thead>\n",
       "  <tbody>\n",
       "    <tr>\n",
       "      <th>2021-04-08</th>\n",
       "      <td>361.000000</td>\n",
       "      <td>363.299988</td>\n",
       "      <td>354.299988</td>\n",
       "      <td>355.600006</td>\n",
       "      <td>346.932678</td>\n",
       "      <td>33370259</td>\n",
       "      <td>-0.008228</td>\n",
       "      <td>-0.008228</td>\n",
       "      <td></td>\n",
       "    </tr>\n",
       "    <tr>\n",
       "      <th>2021-04-09</th>\n",
       "      <td>354.399994</td>\n",
       "      <td>364.500000</td>\n",
       "      <td>351.200012</td>\n",
       "      <td>353.000000</td>\n",
       "      <td>344.396027</td>\n",
       "      <td>46473100</td>\n",
       "      <td>-0.007312</td>\n",
       "      <td>-0.007312</td>\n",
       "      <td></td>\n",
       "    </tr>\n",
       "    <tr>\n",
       "      <th>2021-04-12</th>\n",
       "      <td>344.000000</td>\n",
       "      <td>344.000000</td>\n",
       "      <td>322.549988</td>\n",
       "      <td>328.850006</td>\n",
       "      <td>320.834686</td>\n",
       "      <td>75501713</td>\n",
       "      <td>-0.068414</td>\n",
       "      <td>-0.068414</td>\n",
       "      <td></td>\n",
       "    </tr>\n",
       "    <tr>\n",
       "      <th>2021-04-13</th>\n",
       "      <td>332.000000</td>\n",
       "      <td>342.250000</td>\n",
       "      <td>330.500000</td>\n",
       "      <td>341.000000</td>\n",
       "      <td>332.688538</td>\n",
       "      <td>49773360</td>\n",
       "      <td>0.036947</td>\n",
       "      <td>0.036947</td>\n",
       "      <td></td>\n",
       "    </tr>\n",
       "    <tr>\n",
       "      <th>2021-04-15</th>\n",
       "      <td>342.100006</td>\n",
       "      <td>347.549988</td>\n",
       "      <td>336.100006</td>\n",
       "      <td>342.700012</td>\n",
       "      <td>334.347107</td>\n",
       "      <td>52992349</td>\n",
       "      <td>0.004985</td>\n",
       "      <td>0.004985</td>\n",
       "      <td></td>\n",
       "    </tr>\n",
       "  </tbody>\n",
       "</table>\n",
       "</div>"
      ],
      "text/plain": [
       "                  Open        High         Low       Close   Adj Close  \\\n",
       "Date                                                                     \n",
       "2021-04-08  361.000000  363.299988  354.299988  355.600006  346.932678   \n",
       "2021-04-09  354.399994  364.500000  351.200012  353.000000  344.396027   \n",
       "2021-04-12  344.000000  344.000000  322.549988  328.850006  320.834686   \n",
       "2021-04-13  332.000000  342.250000  330.500000  341.000000  332.688538   \n",
       "2021-04-15  342.100006  347.549988  336.100006  342.700012  334.347107   \n",
       "\n",
       "              Volume  daily_returns  actual_returns predicted_returns  \n",
       "Date                                                                   \n",
       "2021-04-08  33370259      -0.008228       -0.008228                    \n",
       "2021-04-09  46473100      -0.007312       -0.007312                    \n",
       "2021-04-12  75501713      -0.068414       -0.068414                    \n",
       "2021-04-13  49773360       0.036947        0.036947                    \n",
       "2021-04-15  52992349       0.004985        0.004985                    "
      ]
     },
     "execution_count": 36,
     "metadata": {},
     "output_type": "execute_result"
    }
   ],
   "source": [
    "df_training.tail()"
   ]
  },
  {
   "cell_type": "code",
   "execution_count": 42,
   "id": "d41f9bc0",
   "metadata": {},
   "outputs": [],
   "source": [
    "y_pred = model.predict(X_train_norm)"
   ]
  },
  {
   "cell_type": "code",
   "execution_count": 44,
   "id": "7f49a236",
   "metadata": {},
   "outputs": [],
   "source": [
    "df_check = pd.DataFrame({'y_actual' : Y_train, 'y_predicted':y_pred})"
   ]
  },
  {
   "cell_type": "code",
   "execution_count": 45,
   "id": "b703b32f",
   "metadata": {},
   "outputs": [],
   "source": [
    "df_check.to_clipboard()"
   ]
  },
  {
   "cell_type": "code",
   "execution_count": null,
   "id": "ae1aac97",
   "metadata": {},
   "outputs": [],
   "source": []
  }
 ],
 "metadata": {
  "kernelspec": {
   "display_name": "Python 3 (ipykernel)",
   "language": "python",
   "name": "python3"
  },
  "language_info": {
   "codemirror_mode": {
    "name": "ipython",
    "version": 3
   },
   "file_extension": ".py",
   "mimetype": "text/x-python",
   "name": "python",
   "nbconvert_exporter": "python",
   "pygments_lexer": "ipython3",
   "version": "3.10.6"
  }
 },
 "nbformat": 4,
 "nbformat_minor": 5
}
